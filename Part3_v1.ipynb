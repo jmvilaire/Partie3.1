{
 "cells": [
  {
   "cell_type": "markdown",
   "id": "2aa73bb0-10f8-41c1-b1f2-8dc8eda41fee",
   "metadata": {},
   "source": [
    "### Yunjo Lee et Jean Marie Vilaire\n"
   ]
  },
  {
   "cell_type": "code",
   "execution_count": 35,
   "id": "fd067253-a46c-48cc-852d-5b78b60521c5",
   "metadata": {},
   "outputs": [
    {
     "name": "stderr",
     "output_type": "stream",
     "text": [
      "\u001b[32m\u001b[1m   Resolving\u001b[22m\u001b[39m package versions...\n",
      "\u001b[32m\u001b[1m  No Changes\u001b[22m\u001b[39m to `~/Desktop/Desktop/Vilaire/POLY/Received_Courses/CoursPoly/MTH8211/Projet/Part3/ProjetPartie3/Project.toml`\n",
      "\u001b[32m\u001b[1m  No Changes\u001b[22m\u001b[39m to `~/Desktop/Desktop/Vilaire/POLY/Received_Courses/CoursPoly/MTH8211/Projet/Part3/ProjetPartie3/Manifest.toml`\n",
      "\u001b[32m\u001b[1m  Activating\u001b[22m\u001b[39m project at `~/Desktop/Desktop/Vilaire/POLY/Received_Courses/CoursPoly/MTH8211/Projet/Part3/ProjetPartie3`\n"
     ]
    }
   ],
   "source": [
    "using LinearAlgebra\n",
    "using Pkg\n",
    "Pkg.add(\"BenchmarkTools\")\n",
    "Pkg.activate(\"ProjetPartie3\")"
   ]
  },
  {
   "cell_type": "code",
   "execution_count": null,
   "id": "39d1e915-5a9b-4676-b734-66d86e7671b9",
   "metadata": {},
   "outputs": [],
   "source": []
  },
  {
   "cell_type": "code",
   "execution_count": 36,
   "id": "284ac30e-0d55-4987-a868-1fc139803c68",
   "metadata": {},
   "outputs": [
    {
     "data": {
      "text/plain": [
       "forwardsolve (generic function with 1 method)"
      ]
     },
     "execution_count": 36,
     "metadata": {},
     "output_type": "execute_result"
    }
   ],
   "source": [
    "function backsolve(R::UpperTriangular, b)\n",
    "    x = similar(b)\n",
    "    n = length(b)\n",
    "    \n",
    "    for i in n:-1:1\n",
    "        if R[i, i] == 0\n",
    "            throw(ArgumentError(\"Matrice singuliere a la ligne $i.\"))\n",
    "        end\n",
    "        x[i] = (b[i] - dot(R[i, i+1:n], x[i+1:n])) / R[i, i]\n",
    "    end\n",
    "    return x\n",
    "end\n",
    "\n",
    "#--------------------------------------------------------------------\n",
    "function forwardsolve(L::LowerTriangular, b)\n",
    "    x = similar(b)\n",
    "    n = length(b)\n",
    "    \n",
    "    for i in 1:n\n",
    "        if L[i, i] == 0\n",
    "            throw(ArgumentError(\"Matrice singuliere a la ligne $i.\"))\n",
    "        end\n",
    "        x[i] = (b[i] - dot(L[i, 1:i-1], x[1:i-1])) / L[i, i]\n",
    "    end\n",
    "    return x\n",
    "end"
   ]
  },
  {
   "cell_type": "code",
   "execution_count": null,
   "id": "312a1a52-90b2-4788-8b13-7c8325b9e707",
   "metadata": {},
   "outputs": [],
   "source": []
  },
  {
   "cell_type": "code",
   "execution_count": 55,
   "id": "45019f24-a92c-46e3-a600-0090099f8e55",
   "metadata": {},
   "outputs": [
    {
     "data": {
      "text/plain": [
       "bk_partial_pivot (generic function with 2 methods)"
      ]
     },
     "execution_count": 55,
     "metadata": {},
     "output_type": "execute_result"
    }
   ],
   "source": [
    "function bk_partial_pivot(A)\n",
    "    n = size(A, 1)\n",
    "    α = (1 + sqrt(17)) / 8\n",
    "\n",
    "    for k in 1:n\n",
    "        if k < n\n",
    "            λ = maximum(abs.(view(A, k+1:n, k)))\n",
    "            if λ > 0\n",
    "                if abs(A[k, k]) >= α * λ\n",
    "                    return :un_par_un, k\n",
    "                else\n",
    "                    r = argmax(abs.(view(A, k+1:n, k)))[1] + k\n",
    "                    σ = maximum(abs.(view(A, :, r)))\n",
    "                    if abs(A[k, k]) * σ >= α^2 * λ^2\n",
    "                        return :un_par_unPivot, k\n",
    "                    elseif abs(A[r, r]) >= α * σ\n",
    "                        return :un_par_unPivot, r\n",
    "                    else\n",
    "                        return :deux_par_deuxPivot, r\n",
    "                    end\n",
    "                end\n",
    "            end\n",
    "        else\n",
    "            if abs(A[k, k]) > 0\n",
    "                return :un_par_unPivot, k\n",
    "            end\n",
    "        end\n",
    "    end\n",
    "    return :NoPivot, n\n",
    "end"
   ]
  },
  {
   "cell_type": "code",
   "execution_count": 56,
   "id": "66eea908-8df4-4706-8f6a-c4da8eff9d64",
   "metadata": {},
   "outputs": [
    {
     "data": {
      "text/plain": [
       "(:un_par_un, 1)"
      ]
     },
     "metadata": {},
     "output_type": "display_data"
    }
   ],
   "source": [
    "A = [1.0  1.0  1.0   1.0   1.0;\n",
    "     1.0  3.0  3.0   3.0   3.0;\n",
    "     1.0  3.0  6.0   7.0   7.0;\n",
    "     1.0  3.0  7.0  12.0  12.0;\n",
    "     1.0  3.0  7.0  12.0  17.0]\n",
    "display(bk_partial_pivot(Hermitian(A)))\n"
   ]
  },
  {
   "cell_type": "code",
   "execution_count": 57,
   "id": "ae1a497f-fd20-4bbc-adcd-5417bfec9327",
   "metadata": {},
   "outputs": [
    {
     "data": {
      "text/plain": [
       "(:deux_par_deuxPivot, 2)"
      ]
     },
     "metadata": {},
     "output_type": "display_data"
    }
   ],
   "source": [
    "B = [0.0  1  0  0  0;\n",
    "     0  0  0  0  0;\n",
    "     0  0  0  1  2;\n",
    "     0  0  1  0  0;\n",
    "     0  0  2  0  0]\n",
    "display(bk_partial_pivot(Hermitian(B)))"
   ]
  },
  {
   "cell_type": "code",
   "execution_count": 58,
   "id": "8496a05c-9e95-4964-8999-552c5b8c0ed8",
   "metadata": {},
   "outputs": [
    {
     "data": {
      "text/plain": [
       "bp_complete_pivot (generic function with 1 method)"
      ]
     },
     "execution_count": 58,
     "metadata": {},
     "output_type": "execute_result"
    }
   ],
   "source": [
    "function bp_complete_pivot(A)\n",
    "    n = size(A, 1)\n",
    "    α = (1 + sqrt(17)) / 8\n",
    "    pivots = []\n",
    "\n",
    "    for k in 1:n-1\n",
    "        ξ = maximum(abs.(A[i, j]) for i in 1:n, j in 1:n if i != j)\n",
    "        η = maximum(abs.(A[i, i]) for i in 1:n)\n",
    "        if ξ > 0 || η > 0\n",
    "            λ = maximum(abs.(A[k, :]))\n",
    "            if abs(A[k, k]) >= α * λ\n",
    "                if η >= ξ\n",
    "                    println(\"Utiliser A[$k, $k] comme pivot 1-par-1\")\n",
    "                    push!(pivots, (k, k, 1))\n",
    "                else\n",
    "                    println(\"Utiliser A[$k, $k] et A[$(k+1), $(k+1)] comme pivot 2-par-2\")\n",
    "                    push!(pivots, (k, k+1, 2))\n",
    "                end\n",
    "            end\n",
    "        end\n",
    "    end\n",
    "\n",
    "    return pivots\n",
    "end"
   ]
  },
  {
   "cell_type": "code",
   "execution_count": 59,
   "id": "0f5751bc-b3e0-4ce5-af9c-1ebde42ed29b",
   "metadata": {},
   "outputs": [
    {
     "name": "stdout",
     "output_type": "stream",
     "text": [
      "Utiliser A[1, 1] comme pivot 1-par-1\n",
      "Utiliser A[2, 2] comme pivot 1-par-1\n",
      "Utiliser A[3, 3] comme pivot 1-par-1\n",
      "Utiliser A[4, 4] comme pivot 1-par-1\n"
     ]
    },
    {
     "data": {
      "text/plain": [
       "4-element Vector{Any}:\n",
       " (1, 1, 1)\n",
       " (2, 2, 1)\n",
       " (3, 3, 1)\n",
       " (4, 4, 1)"
      ]
     },
     "execution_count": 59,
     "metadata": {},
     "output_type": "execute_result"
    }
   ],
   "source": [
    "A = [1.0  1.0  1.0   1.0   1.0;\n",
    "     1.0  3.0  3.0   3.0   3.0;\n",
    "     1.0  3.0  6.0   7.0   7.0;\n",
    "     1.0  3.0  7.0  12.0  12.0;\n",
    "     1.0  3.0  7.0  12.0  17.0]\n",
    "pivots_A = bp_complete_pivot(Hermitian(A))"
   ]
  },
  {
   "cell_type": "code",
   "execution_count": 60,
   "id": "cb82e9e1-a499-49af-b2b9-724959979bf6",
   "metadata": {},
   "outputs": [
    {
     "name": "stdout",
     "output_type": "stream",
     "text": [
      "Utiliser A[2, 2] et A[3, 3] comme pivot 2-par-2\n"
     ]
    },
    {
     "data": {
      "text/plain": [
       "1-element Vector{Any}:\n",
       " (2, 3, 2)"
      ]
     },
     "execution_count": 60,
     "metadata": {},
     "output_type": "execute_result"
    }
   ],
   "source": [
    "B = [0.0  1  0  0  0;\n",
    "     0  0  0  0  0;\n",
    "     0  0  0  1  2;\n",
    "     0  0  1  0  0;\n",
    "     0  0  2  0  0]\n",
    "pivots_B = bp_complete_pivot(copy(B))"
   ]
  },
  {
   "cell_type": "markdown",
   "id": "4e2ed5c4-7d8a-4095-9b8f-fa2624ba8f31",
   "metadata": {},
   "source": [
    "## Bunch Kaufman"
   ]
  },
  {
   "cell_type": "code",
   "execution_count": 105,
   "id": "8fd3aed0-ee88-42be-8a35-c4b66cc48675",
   "metadata": {},
   "outputs": [
    {
     "data": {
      "text/plain": [
       "bk_fact (generic function with 1 method)"
      ]
     },
     "execution_count": 105,
     "metadata": {},
     "output_type": "execute_result"
    }
   ],
   "source": [
    "function bk_fact(A::Hermitian)\n",
    "    n = size(A, 1)\n",
    "    P = Matrix{Float64}(I, n, n)\n",
    "    L = Matrix{Float64}(I, n, n)\n",
    "    D = zeros(Float64, n, n)\n",
    "\n",
    "    k = 1\n",
    "    while k <= n\n",
    "        pivot_type, pivot_index = bk_partial_pivot(A[k:n, k:n])\n",
    "\n",
    "        if pivot_type == :un_par_un || pivot_type == :un_par_unPivot\n",
    "            r = k + pivot_index - 1\n",
    "            if r != k\n",
    "                P[[k, r], :] = P[[r, k], :]\n",
    "                A.data[[k, r], :] = A.data[[r, k], :]\n",
    "                A.data[:, [k, r]] = A.data[:, [r, k]]\n",
    "                L[[k, r], 1:k-1] = L[[r, k], 1:k-1]\n",
    "            end\n",
    "\n",
    "            D[k, k] = real(A[k, k])\n",
    "            if k < n\n",
    "                L[k+1:n, k] = A[k+1:n, k] / D[k, k]\n",
    "                A.data[k+1:n, k+1:n] -= L[k+1:n, k] * conj.(A[k+1:n, k]')\n",
    "            end\n",
    "            k += 1\n",
    "        elseif pivot_type == :deux_par_deuxPivot\n",
    "            r = k + pivot_index - 1\n",
    "            P[[k+1, r], :] = P[[r, k+1], :]\n",
    "            A[[k+1, r], :] = [[r, k+1], :]\n",
    "            A[:, [k+1, r]] = A[:, [r, k+1]]\n",
    "            L[[k+1, r], 1:k-1] = L[[r, k+1], 1:k-1]\n",
    "            if k+1 < n\n",
    "                L[k+2:n, k:k+1] = A[k+2:n, k:k+1] / A[k:k+1, k:k+1]\n",
    "                A[k+2:n, k+2:n] -= L[k+2:n, k:k+1] * A[k:k+1, k+2:n]\n",
    "            end\n",
    "            k += 2\n",
    "        else \n",
    "            D[k, k] = A[k, k]\n",
    "            break\n",
    "        end\n",
    "    end\n",
    "\n",
    "    return P, L, D\n",
    "end"
   ]
  },
  {
   "cell_type": "code",
   "execution_count": 106,
   "id": "09148264-cc7d-41a9-a091-0355bda82c94",
   "metadata": {},
   "outputs": [
    {
     "data": {
      "text/plain": [
       "4×4 adjoint(::Matrix{Float64}) with eltype Float64:\n",
       " 1.0  0.25  0.25  0.25\n",
       " 0.0  1.0   0.2   0.2\n",
       " 0.0  0.0   1.0   0.166667\n",
       " 0.0  0.0   0.0   1.0"
      ]
     },
     "metadata": {},
     "output_type": "display_data"
    },
    {
     "data": {
      "text/plain": [
       "4×4 Matrix{Float64}:\n",
       " 4.0  0.0   0.0  0.0\n",
       " 0.0  3.75  0.0  0.0\n",
       " 0.0  0.0   3.6  0.0\n",
       " 0.0  0.0   0.0  3.5"
      ]
     },
     "metadata": {},
     "output_type": "display_data"
    }
   ],
   "source": [
    "A = [4.0 1.0 1 1;\n",
    "     1 4 1 1;\n",
    "     1 1 4 1;\n",
    "     1 1 1 4]\n",
    "A = Hermitian(A)\n",
    "P, L, D = bk_fact(A)\n",
    "\n",
    "display(L')\n",
    "display(D)"
   ]
  },
  {
   "cell_type": "code",
   "execution_count": 107,
   "id": "0a5ed1ec-dd68-44c8-8684-7a71d3c6f1fd",
   "metadata": {},
   "outputs": [],
   "source": [
    "#K = bunchkaufman(A)"
   ]
  },
  {
   "cell_type": "code",
   "execution_count": null,
   "id": "b8f11b46-7b41-4cfd-991c-995aa5ab7698",
   "metadata": {},
   "outputs": [],
   "source": []
  },
  {
   "cell_type": "markdown",
   "id": "697e7b62-f64a-4293-aead-545907e7d9d2",
   "metadata": {},
   "source": [
    "## Bunch Parlett"
   ]
  },
  {
   "cell_type": "code",
   "execution_count": 108,
   "id": "aee0edd6-7418-4d3c-aa2b-fd5ba0260143",
   "metadata": {},
   "outputs": [
    {
     "data": {
      "text/plain": [
       "4×4 adjoint(::Matrix{Float64}) with eltype Float64:\n",
       " 1.0  0.25  0.25      0.25\n",
       " 0.0  1.0   0.266667  0.266667\n",
       " 0.0  0.0   1.0       0.287081\n",
       " 0.0  0.0   0.0       1.0"
      ]
     },
     "metadata": {},
     "output_type": "display_data"
    }
   ],
   "source": [
    "function bp_fact(A::Hermitian)\n",
    "    n = size(A, 1)\n",
    "    P = Matrix{Int64}(I, n, n)\n",
    "    L = Matrix{Float64}(I, n, n)\n",
    "    D = zeros(Float64, n, n)\n",
    "\n",
    "    for k in 1:n\n",
    "        # Find the pivot element\n",
    "        max_abs_val = 0\n",
    "        pivot_row = k\n",
    "        for i in k:n\n",
    "            if abs(A[i, k]) > max_abs_val\n",
    "                max_abs_val = abs(A[i, k])\n",
    "                pivot_row = i\n",
    "            end\n",
    "        end\n",
    "\n",
    "        if pivot_row != k\n",
    "            P[[k, pivot_row], :] = P[[pivot_row, k], :]\n",
    "            A[[k, pivot_row], :] = A[[pivot_row, k], :]\n",
    "            L[[k, pivot_row], :] = L[[pivot_row, k], :]\n",
    "        end\n",
    "\n",
    "        kk = A[k, k]\n",
    "        if abs(kk) < 1e-10\n",
    "\n",
    "            kp1 = k + 1\n",
    "            D[k:kp1, k:kp1] = A[k:kp1, k:kp1]\n",
    "            L[kp1, k] = A[kp1, k] / kk\n",
    "            A[kp1, kp1] -= L[kp1, k] * A[kp1, k]\n",
    "            k += 1\n",
    "        else\n",
    "            # Diagonal element is not close to zero, use a 1x1 block\n",
    "            D[k, k] = kk\n",
    "            for i in k+1:n\n",
    "                L[i, k] = A[i, k] / kk\n",
    "                A[i, i] -= L[i, k] * A[i, k]\n",
    "            end\n",
    "        end\n",
    "    end\n",
    "\n",
    "    return P, L, D\n",
    "end\n",
    "A = [4.0 1 1 1;\n",
    "     1 4 1 1;\n",
    "     1 1 4 1;\n",
    "     1 1 1 4]\n",
    "\n",
    "P, L, D = bp_fact(Hermitian(A))\n",
    "# println(\"P:\\n\", P)\n",
    "# println(\"L:\\n\", L)\n",
    "# println(\"D:\\n\", D)\n",
    "display(L')"
   ]
  },
  {
   "cell_type": "markdown",
   "id": "42a05684-1e37-4c4b-9dc2-4ba2fddce9c6",
   "metadata": {},
   "source": [
    "## Rook Pivoting"
   ]
  },
  {
   "cell_type": "code",
   "execution_count": 120,
   "id": "be395ac8-575d-40aa-a1f2-0547c143c722",
   "metadata": {},
   "outputs": [
    {
     "data": {
      "text/plain": [
       "rook_pivoting (generic function with 1 method)"
      ]
     },
     "execution_count": 120,
     "metadata": {},
     "output_type": "execute_result"
    }
   ],
   "source": [
    "function rook_pivoting(A::Matrix{Float64})\n",
    "    n = size(A, 1)\n",
    "    L = I(n)\n",
    "    B = copy(A)\n",
    "    P = I(n)\n",
    "    Q = I(n)\n",
    "\n",
    "    for j in 1:n-1\n",
    "        i, k = findmax(abs.(B[j:n,j:n]), dims=(1,2))\n",
    "        i += j-1\n",
    "        k += j-1\n",
    "        B[[j, i],:] = B[[i, j],:]\n",
    "        L[[j, i],:] = L[[i, j],:]\n",
    "        P[[j, i],:] = P[[i, j],:]\n",
    "        B[:,[j, k]] = B[:,[k, j]]\n",
    "        Q[:,[j, k]] = Q[:,[k, j]]\n",
    "        for i in j+1:n\n",
    "            L[i,j] = B[i,j] / B[j,j]\n",
    "            B[i,:] -= L[i,j] * B[j,:]\n",
    "        end\n",
    "        if k > j\n",
    "            d = B[j,j]\n",
    "            c = B[k,j]\n",
    "            b = B[j,k]\n",
    "            a = B[k,k]\n",
    "            det = a*d - b*c\n",
    "            B[j:k,j:k] = [a b; c d] / det\n",
    "        else\n",
    "            B[j,j] = 1 / B[j,j]\n",
    "        end\n",
    "    end\n",
    "\n",
    "    return L, B, P, Q\n",
    "end"
   ]
  },
  {
   "cell_type": "code",
   "execution_count": null,
   "id": "59664853-f68f-4da4-8640-f355acaceaa6",
   "metadata": {},
   "outputs": [],
   "source": []
  },
  {
   "cell_type": "code",
   "execution_count": 111,
   "id": "e261edf4-dca7-41f5-a3b2-21e3de9a56be",
   "metadata": {},
   "outputs": [
    {
     "data": {
      "text/plain": [
       "solve_linear_BK_LAPACK (generic function with 1 method)"
      ]
     },
     "execution_count": 111,
     "metadata": {},
     "output_type": "execute_result"
    }
   ],
   "source": [
    "function solve_linear_myBP(A::Hermitian, b)#Solution avec notre implementaion de Bunch-Parlett\n",
    "    x = similar(b)\n",
    "    P, L, B = bp_fact(A)\n",
    "    w = forwardsolve(LowerTriangular(L), P*b)\n",
    "    z = B \\ w\n",
    "    y = backsolve(UpperTriangular(L'), z)\n",
    "    x = P \\ y\n",
    "    return x\n",
    "end\n",
    "\n",
    "function solve_linear_myBK(A::Hermitian, b)#Solution avec notre implementaion de Bunch-Kaufman\n",
    "    x = similar(b)\n",
    "    P, L, B = bk_fact(A)\n",
    "    w = forwardsolve(LowerTriangular(L), P*b)\n",
    "    z = B \\ w\n",
    "    y = backsolve(UpperTriangular(L'), z)\n",
    "    x = P \\ y\n",
    "    return x\n",
    "end\n",
    "\n",
    "function solve_linear_BP_LAPACK(A::Hermitian, b)#Solution avec LAPACK implementaion de Bunch-Parlett\n",
    "    x = similar(b)\n",
    "    #ldiv!(x,bunchparlett(A),b)\n",
    "    #S = ldlt(A)\n",
    "    ldiv!(x,ldlt(A),b)\n",
    "    #x = S \\ b\n",
    "    return x\n",
    "end\n",
    "function solve_linear_BK_LAPACK(A::Hermitian, b)#Solution avec LAPACK de Bunch-Kaufman\n",
    "    x = similar(b)\n",
    "    ldiv!(x,bunchkaufman(A),b)\n",
    "    return x\n",
    "end"
   ]
  },
  {
   "cell_type": "code",
   "execution_count": 122,
   "id": "3c96672c-d83f-46b6-b07e-a322ec6c4ce5",
   "metadata": {},
   "outputs": [
    {
     "ename": "LoadError",
     "evalue": "ArgumentError: Cannot set a non-diagonal index in a Hermitian matrix",
     "output_type": "error",
     "traceback": [
      "ArgumentError: Cannot set a non-diagonal index in a Hermitian matrix",
      "",
      "Stacktrace:",
      "  [1] setindex!",
      "    @ /Applications/Julia-1.10.app/Contents/Resources/julia/share/julia/stdlib/v1.10/LinearAlgebra/src/symmetric.jl:264 [inlined]",
      "  [2] macro expansion",
      "    @ ./multidimensional.jl:960 [inlined]",
      "  [3] macro expansion",
      "    @ ./cartesian.jl:64 [inlined]",
      "  [4] _unsafe_setindex!(::IndexCartesian, ::Hermitian{Float64, Matrix{Float64}}, ::Matrix{Float64}, ::Vector{Int64}, ::Base.Slice{Base.OneTo{Int64}})",
      "    @ Base ./multidimensional.jl:955",
      "  [5] _setindex!",
      "    @ ./multidimensional.jl:944 [inlined]",
      "  [6] setindex!",
      "    @ ./abstractarray.jl:1396 [inlined]",
      "  [7] bp_fact(A::Hermitian{Float64, Matrix{Float64}})",
      "    @ Main ./In[108]:20",
      "  [8] solve_linear_myBP(A::Hermitian{Float64, Matrix{Float64}}, b::Vector{Float64})",
      "    @ Main ./In[111]:3",
      "  [9] quadratic_optimization(Q::Hermitian{Float64, Matrix{Float64}}, c::Vector{Float64}, A::Matrix{Float64}, b::Vector{Float64})",
      "    @ Main ./In[112]:7",
      " [10] top-level scope",
      "    @ In[122]:24"
     ]
    }
   ],
   "source": [
    "function quadratic_optimization(Q, c, A, b)\n",
    "    n = size(Q, 1)\n",
    "    m = size(A, 1)\n",
    "    K = [Q A'; A zeros(m, m)]\n",
    "    K = Hermitian(K)\n",
    "    rhs = [-c; b]\n",
    "    sol_myBP = solve_linear_myBP(K, rhs)\n",
    "    \n",
    "    x_myBP = sol_myBP[1:n]\n",
    "    λ_myBP = sol_myBP[n+1:end]\n",
    "\n",
    "    return x_myBP, λ_myBP\n",
    "end\n",
    "\n",
    "n = 10 \n",
    "m = 20 \n",
    "\n",
    "Q = randn(n, n)\n",
    "Q = Hermitian(Q'+Q)\n",
    "c = randn(n)\n",
    "A = randn(m, n)\n",
    "b = randn(m)\n",
    "\n",
    "x_opt, λ_opt = quadratic_optimization(Q, c, A, b)\n",
    "println(\"Solution d'optimisation quadratique x:\")\n",
    "display(x_opt)\n",
    "println(\"Multiplicateurs de Lagrange λ:\")\n",
    "display(λ_opt)\n"
   ]
  },
  {
   "cell_type": "code",
   "execution_count": 115,
   "id": "21ed2380-861b-47ae-880e-aa7113de5785",
   "metadata": {},
   "outputs": [],
   "source": [
    "using BenchmarkTools\n",
    "\n",
    "n = 5\n",
    "m = 4\n",
    "Q = randn(n, n)\n",
    "Q = Q' + Q \n",
    "Q = Hermitian(Q)\n",
    "b = randn(n);"
   ]
  },
  {
   "cell_type": "code",
   "execution_count": 116,
   "id": "0ef0fd93-bf9a-42da-8b5a-e54de4cbc55b",
   "metadata": {},
   "outputs": [
    {
     "ename": "LoadError",
     "evalue": "ArgumentError: Cannot set a non-diagonal index in a Hermitian matrix",
     "output_type": "error",
     "traceback": [
      "ArgumentError: Cannot set a non-diagonal index in a Hermitian matrix",
      "",
      "Stacktrace:",
      "  [1] setindex!",
      "    @ /Applications/Julia-1.10.app/Contents/Resources/julia/share/julia/stdlib/v1.10/LinearAlgebra/src/symmetric.jl:264 [inlined]",
      "  [2] macro expansion",
      "    @ ./multidimensional.jl:960 [inlined]",
      "  [3] macro expansion",
      "    @ ./cartesian.jl:64 [inlined]",
      "  [4] _unsafe_setindex!(::IndexCartesian, ::Hermitian{Float64, Matrix{Float64}}, ::Matrix{Float64}, ::Vector{Int64}, ::Base.Slice{Base.OneTo{Int64}})",
      "    @ Base ./multidimensional.jl:955",
      "  [5] _setindex!",
      "    @ ./multidimensional.jl:944 [inlined]",
      "  [6] setindex!",
      "    @ ./abstractarray.jl:1396 [inlined]",
      "  [7] bp_fact(A::Hermitian{Float64, Matrix{Float64}})",
      "    @ Main ./In[108]:20",
      "  [8] solve_linear_myBP(A::Hermitian{Float64, Matrix{Float64}}, b::Vector{Float64})",
      "    @ Main ./In[111]:3",
      "  [9] var\"##core#256\"(Q#254::Hermitian{Float64, Matrix{Float64}}, b#255::Vector{Float64})",
      "    @ Main ~/.julia/packages/BenchmarkTools/QNsku/src/execution.jl:561",
      " [10] var\"##sample#257\"(::Tuple{Hermitian{Float64, Matrix{Float64}}, Vector{Float64}}, __params::BenchmarkTools.Parameters)",
      "    @ Main ~/.julia/packages/BenchmarkTools/QNsku/src/execution.jl:570",
      " [11] _lineartrial(b::BenchmarkTools.Benchmark, p::BenchmarkTools.Parameters; maxevals::Int64, kwargs::@Kwargs{})",
      "    @ BenchmarkTools ~/.julia/packages/BenchmarkTools/QNsku/src/execution.jl:187",
      " [12] _lineartrial(b::BenchmarkTools.Benchmark, p::BenchmarkTools.Parameters)",
      "    @ BenchmarkTools ~/.julia/packages/BenchmarkTools/QNsku/src/execution.jl:182",
      " [13] #invokelatest#2",
      "    @ ./essentials.jl:892 [inlined]",
      " [14] invokelatest",
      "    @ ./essentials.jl:889 [inlined]",
      " [15] #lineartrial#46",
      "    @ ~/.julia/packages/BenchmarkTools/QNsku/src/execution.jl:51 [inlined]",
      " [16] lineartrial",
      "    @ ~/.julia/packages/BenchmarkTools/QNsku/src/execution.jl:50 [inlined]",
      " [17] tune!(b::BenchmarkTools.Benchmark, p::BenchmarkTools.Parameters; progressid::Nothing, nleaves::Float64, ndone::Float64, verbose::Bool, pad::String, kwargs::@Kwargs{})",
      "    @ BenchmarkTools ~/.julia/packages/BenchmarkTools/QNsku/src/execution.jl:300",
      " [18] tune!",
      "    @ ~/.julia/packages/BenchmarkTools/QNsku/src/execution.jl:289 [inlined]",
      " [19] tune!(b::BenchmarkTools.Benchmark)",
      "    @ BenchmarkTools ~/.julia/packages/BenchmarkTools/QNsku/src/execution.jl:289",
      " [20] top-level scope",
      "    @ ~/.julia/packages/BenchmarkTools/QNsku/src/execution.jl:447"
     ]
    }
   ],
   "source": [
    "@benchmark solve_linear_myBP($Q, $b)"
   ]
  },
  {
   "cell_type": "code",
   "execution_count": null,
   "id": "26a2e86a-52b3-4466-a827-2fb532d22010",
   "metadata": {},
   "outputs": [],
   "source": []
  },
  {
   "cell_type": "code",
   "execution_count": 117,
   "id": "99d519ec-4f5d-4aac-a0e5-de7753431767",
   "metadata": {},
   "outputs": [
    {
     "data": {
      "text/plain": [
       "BenchmarkTools.Trial: 10000 samples with 10 evaluations.\n",
       " Range \u001b[90m(\u001b[39m\u001b[36m\u001b[1mmin\u001b[22m\u001b[39m … \u001b[35mmax\u001b[39m\u001b[90m):  \u001b[39m\u001b[36m\u001b[1m1.385 μs\u001b[22m\u001b[39m … \u001b[35m 1.434 ms\u001b[39m  \u001b[90m┊\u001b[39m GC \u001b[90m(\u001b[39mmin … max\u001b[90m): \u001b[39m 0.00% … 99.72%\n",
       " Time  \u001b[90m(\u001b[39m\u001b[34m\u001b[1mmedian\u001b[22m\u001b[39m\u001b[90m):     \u001b[39m\u001b[34m\u001b[1m1.598 μs              \u001b[22m\u001b[39m\u001b[90m┊\u001b[39m GC \u001b[90m(\u001b[39mmedian\u001b[90m):    \u001b[39m 0.00%\n",
       " Time  \u001b[90m(\u001b[39m\u001b[32m\u001b[1mmean\u001b[22m\u001b[39m ± \u001b[32mσ\u001b[39m\u001b[90m):   \u001b[39m\u001b[32m\u001b[1m2.055 μs\u001b[22m\u001b[39m ± \u001b[32m21.788 μs\u001b[39m  \u001b[90m┊\u001b[39m GC \u001b[90m(\u001b[39mmean ± σ\u001b[90m):  \u001b[39m22.70% ±  2.22%\n",
       "\n",
       "  \u001b[39m \u001b[39m \u001b[39m \u001b[39m \u001b[39m \u001b[39m \u001b[39m \u001b[39m \u001b[39m \u001b[39m \u001b[39m \u001b[39m \u001b[39m \u001b[39m▃\u001b[39m█\u001b[34m▇\u001b[39m\u001b[39m▅\u001b[39m \u001b[39m \u001b[39m \u001b[39m \u001b[39m \u001b[39m \u001b[39m \u001b[39m \u001b[39m \u001b[39m \u001b[39m \u001b[39m \u001b[39m \u001b[39m \u001b[39m \u001b[39m \u001b[39m \u001b[39m \u001b[39m \u001b[39m \u001b[39m \u001b[39m \u001b[39m \u001b[39m \u001b[39m \u001b[39m \u001b[39m \u001b[39m \u001b[39m \u001b[32m \u001b[39m\u001b[39m \u001b[39m \u001b[39m \u001b[39m \u001b[39m \u001b[39m \u001b[39m \u001b[39m \u001b[39m \u001b[39m \u001b[39m \u001b[39m \u001b[39m \n",
       "  \u001b[39m▃\u001b[39m▆\u001b[39m▆\u001b[39m▄\u001b[39m▃\u001b[39m▂\u001b[39m▂\u001b[39m▂\u001b[39m▂\u001b[39m▂\u001b[39m▂\u001b[39m▃\u001b[39m▅\u001b[39m█\u001b[39m█\u001b[34m█\u001b[39m\u001b[39m█\u001b[39m▆\u001b[39m▃\u001b[39m▂\u001b[39m▂\u001b[39m▂\u001b[39m▁\u001b[39m▂\u001b[39m▂\u001b[39m▂\u001b[39m▁\u001b[39m▂\u001b[39m▂\u001b[39m▂\u001b[39m▁\u001b[39m▁\u001b[39m▁\u001b[39m▂\u001b[39m▂\u001b[39m▂\u001b[39m▂\u001b[39m▂\u001b[39m▂\u001b[39m▂\u001b[39m▁\u001b[39m▂\u001b[39m▂\u001b[39m▂\u001b[39m▂\u001b[39m▁\u001b[32m▁\u001b[39m\u001b[39m▂\u001b[39m▂\u001b[39m▂\u001b[39m▂\u001b[39m▂\u001b[39m▂\u001b[39m▂\u001b[39m▂\u001b[39m▂\u001b[39m▂\u001b[39m▂\u001b[39m \u001b[39m▃\n",
       "  1.38 μs\u001b[90m        Histogram: frequency by time\u001b[39m        2.23 μs \u001b[0m\u001b[1m<\u001b[22m\n",
       "\n",
       " Memory estimate\u001b[90m: \u001b[39m\u001b[33m3.06 KiB\u001b[39m, allocs estimate\u001b[90m: \u001b[39m\u001b[33m5\u001b[39m."
      ]
     },
     "execution_count": 117,
     "metadata": {},
     "output_type": "execute_result"
    }
   ],
   "source": [
    "@benchmark solve_linear_BK_LAPACK($Q, $b)"
   ]
  },
  {
   "cell_type": "code",
   "execution_count": 118,
   "id": "1dc28726-1bb9-4a46-85bb-46105bf5b8a2",
   "metadata": {},
   "outputs": [
    {
     "ename": "LoadError",
     "evalue": "DimensionMismatch: tried to assign 2-element array to 2×5 destination",
     "output_type": "error",
     "traceback": [
      "DimensionMismatch: tried to assign 2-element array to 2×5 destination",
      "",
      "Stacktrace:",
      "  [1] throw_setindex_mismatch(X::Vector{Any}, I::Tuple{Int64, Int64})",
      "    @ Base ./indices.jl:193",
      "  [2] setindex_shape_check",
      "    @ ./indices.jl:248 [inlined]",
      "  [3] _unsafe_setindex!(::IndexCartesian, ::Hermitian{Float64, Matrix{Float64}}, ::Vector{Any}, ::Vector{Int64}, ::Base.Slice{Base.OneTo{Int64}})",
      "    @ Base ./multidimensional.jl:953",
      "  [4] _setindex!",
      "    @ ./multidimensional.jl:944 [inlined]",
      "  [5] setindex!",
      "    @ ./abstractarray.jl:1396 [inlined]",
      "  [6] bk_fact(A::Hermitian{Float64, Matrix{Float64}})",
      "    @ Main ./In[105]:29",
      "  [7] solve_linear_myBK(A::Hermitian{Float64, Matrix{Float64}}, b::Vector{Float64})",
      "    @ Main ./In[111]:13",
      "  [8] var\"##core#270\"(Q#268::Hermitian{Float64, Matrix{Float64}}, b#269::Vector{Float64})",
      "    @ Main ~/.julia/packages/BenchmarkTools/QNsku/src/execution.jl:561",
      "  [9] var\"##sample#271\"(::Tuple{Hermitian{Float64, Matrix{Float64}}, Vector{Float64}}, __params::BenchmarkTools.Parameters)",
      "    @ Main ~/.julia/packages/BenchmarkTools/QNsku/src/execution.jl:570",
      " [10] _lineartrial(b::BenchmarkTools.Benchmark, p::BenchmarkTools.Parameters; maxevals::Int64, kwargs::@Kwargs{})",
      "    @ BenchmarkTools ~/.julia/packages/BenchmarkTools/QNsku/src/execution.jl:187",
      " [11] _lineartrial(b::BenchmarkTools.Benchmark, p::BenchmarkTools.Parameters)",
      "    @ BenchmarkTools ~/.julia/packages/BenchmarkTools/QNsku/src/execution.jl:182",
      " [12] #invokelatest#2",
      "    @ ./essentials.jl:892 [inlined]",
      " [13] invokelatest",
      "    @ ./essentials.jl:889 [inlined]",
      " [14] #lineartrial#46",
      "    @ ~/.julia/packages/BenchmarkTools/QNsku/src/execution.jl:51 [inlined]",
      " [15] lineartrial",
      "    @ ~/.julia/packages/BenchmarkTools/QNsku/src/execution.jl:50 [inlined]",
      " [16] tune!(b::BenchmarkTools.Benchmark, p::BenchmarkTools.Parameters; progressid::Nothing, nleaves::Float64, ndone::Float64, verbose::Bool, pad::String, kwargs::@Kwargs{})",
      "    @ BenchmarkTools ~/.julia/packages/BenchmarkTools/QNsku/src/execution.jl:300",
      " [17] tune!",
      "    @ ~/.julia/packages/BenchmarkTools/QNsku/src/execution.jl:289 [inlined]",
      " [18] tune!(b::BenchmarkTools.Benchmark)",
      "    @ BenchmarkTools ~/.julia/packages/BenchmarkTools/QNsku/src/execution.jl:289",
      " [19] top-level scope",
      "    @ ~/.julia/packages/BenchmarkTools/QNsku/src/execution.jl:447"
     ]
    }
   ],
   "source": [
    "@benchmark solve_linear_myBK($Q, $b)"
   ]
  },
  {
   "cell_type": "code",
   "execution_count": 119,
   "id": "a8c2582b-f6f4-4ce0-bd4c-ef71e61df2fb",
   "metadata": {},
   "outputs": [
    {
     "ename": "LoadError",
     "evalue": "ArgumentError: Cannot set a non-diagonal index in a Hermitian matrix",
     "output_type": "error",
     "traceback": [
      "ArgumentError: Cannot set a non-diagonal index in a Hermitian matrix",
      "",
      "Stacktrace:",
      "  [1] setindex!",
      "    @ /Applications/Julia-1.10.app/Contents/Resources/julia/share/julia/stdlib/v1.10/LinearAlgebra/src/symmetric.jl:264 [inlined]",
      "  [2] macro expansion",
      "    @ ./multidimensional.jl:960 [inlined]",
      "  [3] macro expansion",
      "    @ ./cartesian.jl:64 [inlined]",
      "  [4] _unsafe_setindex!(::IndexCartesian, ::Hermitian{Float64, Matrix{Float64}}, ::Matrix{Float64}, ::Vector{Int64}, ::Base.Slice{Base.OneTo{Int64}})",
      "    @ Base ./multidimensional.jl:955",
      "  [5] _setindex!",
      "    @ ./multidimensional.jl:944 [inlined]",
      "  [6] setindex!",
      "    @ ./abstractarray.jl:1396 [inlined]",
      "  [7] bp_fact(A::Hermitian{Float64, Matrix{Float64}})",
      "    @ Main ./In[108]:20",
      "  [8] solve_linear_myBP(A::Hermitian{Float64, Matrix{Float64}}, b::Vector{Float64})",
      "    @ Main ./In[111]:3",
      "  [9] var\"##core#277\"(Q#275::Hermitian{Float64, Matrix{Float64}}, b#276::Vector{Float64})",
      "    @ Main ~/.julia/packages/BenchmarkTools/QNsku/src/execution.jl:561",
      " [10] var\"##sample#278\"(::Tuple{Hermitian{Float64, Matrix{Float64}}, Vector{Float64}}, __params::BenchmarkTools.Parameters)",
      "    @ Main ~/.julia/packages/BenchmarkTools/QNsku/src/execution.jl:570",
      " [11] _lineartrial(b::BenchmarkTools.Benchmark, p::BenchmarkTools.Parameters; maxevals::Int64, kwargs::@Kwargs{})",
      "    @ BenchmarkTools ~/.julia/packages/BenchmarkTools/QNsku/src/execution.jl:187",
      " [12] _lineartrial(b::BenchmarkTools.Benchmark, p::BenchmarkTools.Parameters)",
      "    @ BenchmarkTools ~/.julia/packages/BenchmarkTools/QNsku/src/execution.jl:182",
      " [13] #invokelatest#2",
      "    @ ./essentials.jl:892 [inlined]",
      " [14] invokelatest",
      "    @ ./essentials.jl:889 [inlined]",
      " [15] #lineartrial#46",
      "    @ ~/.julia/packages/BenchmarkTools/QNsku/src/execution.jl:51 [inlined]",
      " [16] lineartrial",
      "    @ ~/.julia/packages/BenchmarkTools/QNsku/src/execution.jl:50 [inlined]",
      " [17] tune!(b::BenchmarkTools.Benchmark, p::BenchmarkTools.Parameters; progressid::Nothing, nleaves::Float64, ndone::Float64, verbose::Bool, pad::String, kwargs::@Kwargs{})",
      "    @ BenchmarkTools ~/.julia/packages/BenchmarkTools/QNsku/src/execution.jl:300",
      " [18] tune!",
      "    @ ~/.julia/packages/BenchmarkTools/QNsku/src/execution.jl:289 [inlined]",
      " [19] tune!(b::BenchmarkTools.Benchmark)",
      "    @ BenchmarkTools ~/.julia/packages/BenchmarkTools/QNsku/src/execution.jl:289",
      " [20] top-level scope",
      "    @ ~/.julia/packages/BenchmarkTools/QNsku/src/execution.jl:447"
     ]
    }
   ],
   "source": [
    "@benchmark solve_linear_myBP($Q,$b)"
   ]
  },
  {
   "cell_type": "code",
   "execution_count": null,
   "id": "e65b7037-6d96-48d1-8751-86125a81245b",
   "metadata": {},
   "outputs": [],
   "source": []
  },
  {
   "cell_type": "code",
   "execution_count": null,
   "id": "3d5067d8-a9ee-424b-ad79-30d5800ad3f7",
   "metadata": {},
   "outputs": [],
   "source": []
  },
  {
   "cell_type": "code",
   "execution_count": 25,
   "id": "56edf6ad-347c-4af1-b17b-c0653c82d167",
   "metadata": {},
   "outputs": [
    {
     "name": "stdout",
     "output_type": "stream",
     "text": [
      "Lower triangular matrix L:\n",
      "ComplexF64[1.0 + 0.0im 0.0 + 0.0im 0.0 + 0.0im; 0.25 - 0.5im 1.0 + 0.0im 0.0 + 0.0im; 0.25 + 0.0im 0.0 + 0.0im 1.0 + 0.0im]\n",
      "\n",
      "Block diagonal matrix D:\n",
      "ComplexF64[4.0 + 0.0im 0.0 + 0.0im 0.0 + 0.0im; 0.0 + 0.0im 1.75 + 0.0im 0.75 + 1.5im; 0.0 + 0.0im 0.75 - 1.5im 1.75 + 0.0im]\n",
      "\n",
      "Permutation matrix P:\n",
      "[1.0 0.0 0.0; 0.0 1.0 0.0; 0.0 0.0 1.0]\n"
     ]
    }
   ],
   "source": [
    "function bk_pivot(A::Matrix{Float64}, α::Float64)\n",
    "    n = size(A, 1)\n",
    "    for k in 1:n\n",
    "        if k < n\n",
    "            λ = maximum(abs.(A[k+1:end, k]))\n",
    "            if λ > 0\n",
    "                if abs(A[k, k]) >= α * λ\n",
    "                    return :un_par_un, k\n",
    "                else\n",
    "                    r = argmax(abs.(A[k+1:end, k])) + k\n",
    "                    σ = maximum(abs.(A[:, r]))\n",
    "                    if abs(A[k, k]) * σ >= α^2 * λ^2\n",
    "                        return :un_par_unPivot, k\n",
    "                    elseif abs(A[r, r]) >= α * σ\n",
    "                        return :un_par_unPivot, r\n",
    "                    else\n",
    "                        return :deux_par_deuxPivot, r\n",
    "                    end\n",
    "                end\n",
    "            end\n",
    "        else\n",
    "            if abs(A[k, k]) > 0\n",
    "                return :un_par_unPivot, k\n",
    "            end\n",
    "        end\n",
    "    end\n",
    "    return :NoPivot, n\n",
    "end\n"
   ]
  },
  {
   "cell_type": "code",
   "execution_count": 26,
   "id": "6607d265-e3cf-4c05-9520-53b65902c707",
   "metadata": {},
   "outputs": [
    {
     "data": {
      "text/plain": [
       "4×4 adjoint(::Matrix{Float64}) with eltype Float64:\n",
       " 1.0  0.0  0.0  0.0\n",
       " 0.0  1.0  0.0  0.0\n",
       " 0.0  0.0  1.0  0.0\n",
       " 0.0  0.0  0.0  1.0"
      ]
     },
     "metadata": {},
     "output_type": "display_data"
    }
   ],
   "source": [
    "A = [4.0 1 1 1;\n",
    "     1 4 1 1;\n",
    "     1 1 4 1;\n",
    "     1 1 1 4]\n",
    "\n",
    "L, D, P = LDL(Hermitian(A))\n",
    "# println(\"P:\\n\", P)\n",
    "# println(\"L:\\n\", L)\n",
    "# println(\"D:\\n\", D)\n",
    "display(L')"
   ]
  },
  {
   "cell_type": "code",
   "execution_count": null,
   "id": "cba42c6c-c0ce-401b-ae0e-e2fbff2687f9",
   "metadata": {},
   "outputs": [],
   "source": [
    "function solve_linear_myBP(A::Hermitian, b)#Solution avec notre implementaion de Bunch-Parlett\n",
    "    x = similar(b)\n",
    "    P, L, B = bp_fact(A)\n",
    "    w = forwardsolve(LowerTriangular(L), P*b)\n",
    "    z = B \\ w\n",
    "    y = backsolve(UpperTriangular(L'), z)\n",
    "    x = P \\ y\n",
    "    return x\n",
    "end"
   ]
  },
  {
   "cell_type": "code",
   "execution_count": null,
   "id": "7e3664ff-82e2-4bed-9497-3fbc7932993f",
   "metadata": {},
   "outputs": [],
   "source": []
  },
  {
   "cell_type": "code",
   "execution_count": null,
   "id": "2ade8515-f49c-48b9-ba20-89285ef37150",
   "metadata": {},
   "outputs": [],
   "source": []
  },
  {
   "cell_type": "code",
   "execution_count": null,
   "id": "00f308bf-0e0b-4da9-8aa7-93f97f285ef5",
   "metadata": {},
   "outputs": [],
   "source": []
  }
 ],
 "metadata": {
  "kernelspec": {
   "display_name": "Julia 1.10.3",
   "language": "julia",
   "name": "julia-1.10"
  },
  "language_info": {
   "file_extension": ".jl",
   "mimetype": "application/julia",
   "name": "julia",
   "version": "1.10.3"
  }
 },
 "nbformat": 4,
 "nbformat_minor": 5
}
